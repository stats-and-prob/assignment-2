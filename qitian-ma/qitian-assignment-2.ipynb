{
 "cells": [
  {
   "cell_type": "markdown",
   "metadata": {},
   "source": [
    "Using the dataset “wine_properties.csv” in the folder “Assignment_2” and Python, do the following tasks:"
   ]
  },
  {
   "cell_type": "code",
   "execution_count": 1,
   "metadata": {},
   "outputs": [],
   "source": [
    "import pandas as pd\n",
    "import numpy as np\n",
    "import matplotlib.pyplot as plt"
   ]
  },
  {
   "cell_type": "markdown",
   "metadata": {},
   "source": [
    "• Perform a PCA, analysing the meaning of the first two principal components using the “circle of correlations”"
   ]
  },
  {
   "cell_type": "code",
   "execution_count": 2,
   "metadata": {},
   "outputs": [],
   "source": [
    "from sklearn.preprocessing import StandardScaler\n",
    "from sklearn.decomposition import PCA"
   ]
  },
  {
   "cell_type": "code",
   "execution_count": 3,
   "metadata": {},
   "outputs": [
    {
     "data": {
      "text/html": [
       "<div>\n",
       "<style scoped>\n",
       "    .dataframe tbody tr th:only-of-type {\n",
       "        vertical-align: middle;\n",
       "    }\n",
       "\n",
       "    .dataframe tbody tr th {\n",
       "        vertical-align: top;\n",
       "    }\n",
       "\n",
       "    .dataframe thead th {\n",
       "        text-align: right;\n",
       "    }\n",
       "</style>\n",
       "<table border=\"1\" class=\"dataframe\">\n",
       "  <thead>\n",
       "    <tr style=\"text-align: right;\">\n",
       "      <th></th>\n",
       "      <th>Alcohol</th>\n",
       "      <th>Malic_Acid</th>\n",
       "      <th>Ash</th>\n",
       "      <th>Ash_Alcanity</th>\n",
       "      <th>Magnesium</th>\n",
       "      <th>Total_Phenols</th>\n",
       "      <th>Flavanoids</th>\n",
       "      <th>Nonflavanoid_Phenols</th>\n",
       "      <th>Proanthocyanins</th>\n",
       "      <th>Color_Intensity</th>\n",
       "      <th>Hue</th>\n",
       "      <th>OD280</th>\n",
       "      <th>Proline</th>\n",
       "      <th>Customer_Segment</th>\n",
       "    </tr>\n",
       "  </thead>\n",
       "  <tbody>\n",
       "    <tr>\n",
       "      <th>0</th>\n",
       "      <td>14.23</td>\n",
       "      <td>1.71</td>\n",
       "      <td>2.43</td>\n",
       "      <td>15.6</td>\n",
       "      <td>127</td>\n",
       "      <td>2.80</td>\n",
       "      <td>3.06</td>\n",
       "      <td>0.28</td>\n",
       "      <td>2.29</td>\n",
       "      <td>5.64</td>\n",
       "      <td>1.04</td>\n",
       "      <td>3.92</td>\n",
       "      <td>1065</td>\n",
       "      <td>1</td>\n",
       "    </tr>\n",
       "    <tr>\n",
       "      <th>1</th>\n",
       "      <td>13.20</td>\n",
       "      <td>1.78</td>\n",
       "      <td>2.14</td>\n",
       "      <td>11.2</td>\n",
       "      <td>100</td>\n",
       "      <td>2.65</td>\n",
       "      <td>2.76</td>\n",
       "      <td>0.26</td>\n",
       "      <td>1.28</td>\n",
       "      <td>4.38</td>\n",
       "      <td>1.05</td>\n",
       "      <td>3.40</td>\n",
       "      <td>1050</td>\n",
       "      <td>1</td>\n",
       "    </tr>\n",
       "    <tr>\n",
       "      <th>2</th>\n",
       "      <td>13.16</td>\n",
       "      <td>2.36</td>\n",
       "      <td>2.67</td>\n",
       "      <td>18.6</td>\n",
       "      <td>101</td>\n",
       "      <td>2.80</td>\n",
       "      <td>3.24</td>\n",
       "      <td>0.30</td>\n",
       "      <td>2.81</td>\n",
       "      <td>5.68</td>\n",
       "      <td>1.03</td>\n",
       "      <td>3.17</td>\n",
       "      <td>1185</td>\n",
       "      <td>1</td>\n",
       "    </tr>\n",
       "    <tr>\n",
       "      <th>3</th>\n",
       "      <td>14.37</td>\n",
       "      <td>1.95</td>\n",
       "      <td>2.50</td>\n",
       "      <td>16.8</td>\n",
       "      <td>113</td>\n",
       "      <td>3.85</td>\n",
       "      <td>3.49</td>\n",
       "      <td>0.24</td>\n",
       "      <td>2.18</td>\n",
       "      <td>7.80</td>\n",
       "      <td>0.86</td>\n",
       "      <td>3.45</td>\n",
       "      <td>1480</td>\n",
       "      <td>1</td>\n",
       "    </tr>\n",
       "    <tr>\n",
       "      <th>4</th>\n",
       "      <td>13.24</td>\n",
       "      <td>2.59</td>\n",
       "      <td>2.87</td>\n",
       "      <td>21.0</td>\n",
       "      <td>118</td>\n",
       "      <td>2.80</td>\n",
       "      <td>2.69</td>\n",
       "      <td>0.39</td>\n",
       "      <td>1.82</td>\n",
       "      <td>4.32</td>\n",
       "      <td>1.04</td>\n",
       "      <td>2.93</td>\n",
       "      <td>735</td>\n",
       "      <td>1</td>\n",
       "    </tr>\n",
       "  </tbody>\n",
       "</table>\n",
       "</div>"
      ],
      "text/plain": [
       "   Alcohol  Malic_Acid   Ash  Ash_Alcanity  Magnesium  Total_Phenols  \\\n",
       "0    14.23        1.71  2.43          15.6        127           2.80   \n",
       "1    13.20        1.78  2.14          11.2        100           2.65   \n",
       "2    13.16        2.36  2.67          18.6        101           2.80   \n",
       "3    14.37        1.95  2.50          16.8        113           3.85   \n",
       "4    13.24        2.59  2.87          21.0        118           2.80   \n",
       "\n",
       "   Flavanoids  Nonflavanoid_Phenols  Proanthocyanins  Color_Intensity   Hue  \\\n",
       "0        3.06                  0.28             2.29             5.64  1.04   \n",
       "1        2.76                  0.26             1.28             4.38  1.05   \n",
       "2        3.24                  0.30             2.81             5.68  1.03   \n",
       "3        3.49                  0.24             2.18             7.80  0.86   \n",
       "4        2.69                  0.39             1.82             4.32  1.04   \n",
       "\n",
       "   OD280  Proline  Customer_Segment  \n",
       "0   3.92     1065                 1  \n",
       "1   3.40     1050                 1  \n",
       "2   3.17     1185                 1  \n",
       "3   3.45     1480                 1  \n",
       "4   2.93      735                 1  "
      ]
     },
     "execution_count": 3,
     "metadata": {},
     "output_type": "execute_result"
    }
   ],
   "source": [
    "wine = pd.read_csv('wines_properties.csv')\n",
    "wine.head()"
   ]
  },
  {
   "cell_type": "code",
   "execution_count": 4,
   "metadata": {},
   "outputs": [
    {
     "name": "stderr",
     "output_type": "stream",
     "text": [
      "/home/ranger/.local/lib/python3.6/site-packages/sklearn/preprocessing/data.py:617: DataConversionWarning: Data with input dtype int64, float64 were all converted to float64 by StandardScaler.\n",
      "  return self.partial_fit(X, y)\n",
      "/home/ranger/.local/lib/python3.6/site-packages/sklearn/base.py:462: DataConversionWarning: Data with input dtype int64, float64 were all converted to float64 by StandardScaler.\n",
      "  return self.fit(X, **fit_params).transform(X)\n"
     ]
    }
   ],
   "source": [
    "n_factor = wine.shape[1] - 1\n",
    "wine_std = StandardScaler().fit_transform(wine.iloc[:, :-1])"
   ]
  },
  {
   "cell_type": "code",
   "execution_count": 5,
   "metadata": {},
   "outputs": [],
   "source": [
    "my_pca = PCA(n_components=2)\n",
    "new_projected_data = my_pca.fit_transform(wine_std)\n",
    "PCs = my_pca.components_"
   ]
  },
  {
   "cell_type": "code",
   "execution_count": 6,
   "metadata": {},
   "outputs": [
    {
     "name": "stdout",
     "output_type": "stream",
     "text": [
      "Using matplotlib backend: TkAgg\n"
     ]
    }
   ],
   "source": [
    "%matplotlib\n",
    "\n",
    "fig = plt.figure(figsize=(5,5))\n",
    "plt.quiver(np.zeros(PCs.shape[1]), np.zeros(PCs.shape[1]),\n",
    "           PCs[0,:], PCs[1,:], \n",
    "           angles='xy', scale_units='xy', scale=1)\n",
    "\n",
    "# Add labels based on feature names (here just numbers)\n",
    "feature_names = np.arange(PCs.shape[1])\n",
    "for i,j,z in zip(PCs[1,:]+0.02, PCs[0,:]+0.02, feature_names):\n",
    "    plt.text(j, i, z, ha='center', va='center')\n",
    "\n",
    "# Add unit circle\n",
    "circle = plt.Circle((0,0), 1, facecolor='none', edgecolor='b')\n",
    "plt.gca().add_artist(circle)\n",
    "\n",
    "# Ensure correct aspect ratio and axis limits\n",
    "plt.axis('equal')\n",
    "plt.xlim([-1.0,1.0])\n",
    "plt.ylim([-1.0,1.0])\n",
    "\n",
    "# Label axes\n",
    "plt.xlabel('PC 0')\n",
    "plt.ylabel('PC 1')\n",
    "\n",
    "# Done\n",
    "plt.savefig('corr.png')\n",
    "plt.show()"
   ]
  },
  {
   "cell_type": "code",
   "execution_count": 7,
   "metadata": {},
   "outputs": [],
   "source": [
    "PC1_cor = np.zeros(n_factor)\n",
    "for i in range(n_factor):\n",
    "    PC1_cor[i] = np.corrcoef(wine_std.dot(PCs[0]), wine_std[:, i])[0, 1]\n",
    "    \n",
    "PC2_cor = np.zeros(n_factor)\n",
    "for i in range(n_factor):\n",
    "    PC2_cor[i] = np.corrcoef(wine_std.dot(PCs[1]), wine_std[:, i])[0, 1]"
   ]
  },
  {
   "cell_type": "code",
   "execution_count": 8,
   "metadata": {},
   "outputs": [
    {
     "data": {
      "text/plain": [
       "Index(['Total_Phenols', 'Flavanoids', 'OD280'], dtype='object')"
      ]
     },
     "execution_count": 8,
     "metadata": {},
     "output_type": "execute_result"
    }
   ],
   "source": [
    "wine.iloc[:, :-1].columns[np.abs(PC1_cor) > .75]"
   ]
  },
  {
   "cell_type": "code",
   "execution_count": 9,
   "metadata": {},
   "outputs": [
    {
     "data": {
      "text/plain": [
       "Index(['Alcohol', 'Color_Intensity'], dtype='object')"
      ]
     },
     "execution_count": 9,
     "metadata": {},
     "output_type": "execute_result"
    }
   ],
   "source": [
    "wine.iloc[:, :-1].columns[np.abs(PC2_cor) > .75]"
   ]
  },
  {
   "cell_type": "markdown",
   "metadata": {},
   "source": [
    "PCs is factor loadings, the weight by which each standardized original factor should be multiplied to get the factor scores. The correlation coefficient between factor scores and standardized original factor produces the circle of correlations. According to the picture above:\n",
    "\n",
    "Factor 'Total_Phenols', 'Flavanoids', 'OD280', are represented by PC0.  \n",
    "Factor 'Alcohol', 'Color_Intensity' are represented by PC1.  \n",
    "Fhe rest factors are evenly represented by PC0 & PC1."
   ]
  },
  {
   "cell_type": "markdown",
   "metadata": {},
   "source": [
    "• Use a hierarchical cluster algorithm to guess a likely number of cluster present in the data"
   ]
  },
  {
   "cell_type": "code",
   "execution_count": 10,
   "metadata": {},
   "outputs": [],
   "source": [
    "from scipy.spatial.distance import pdist, squareform\n",
    "from scipy.cluster.hierarchy import linkage\n",
    "from scipy.cluster.hierarchy import dendrogram"
   ]
  },
  {
   "cell_type": "code",
   "execution_count": 11,
   "metadata": {},
   "outputs": [
    {
     "data": {
      "text/html": [
       "<div>\n",
       "<style scoped>\n",
       "    .dataframe tbody tr th:only-of-type {\n",
       "        vertical-align: middle;\n",
       "    }\n",
       "\n",
       "    .dataframe tbody tr th {\n",
       "        vertical-align: top;\n",
       "    }\n",
       "\n",
       "    .dataframe thead th {\n",
       "        text-align: right;\n",
       "    }\n",
       "</style>\n",
       "<table border=\"1\" class=\"dataframe\">\n",
       "  <thead>\n",
       "    <tr style=\"text-align: right;\">\n",
       "      <th></th>\n",
       "      <th>0</th>\n",
       "      <th>1</th>\n",
       "      <th>2</th>\n",
       "      <th>3</th>\n",
       "      <th>4</th>\n",
       "      <th>5</th>\n",
       "      <th>6</th>\n",
       "      <th>7</th>\n",
       "      <th>8</th>\n",
       "      <th>9</th>\n",
       "      <th>...</th>\n",
       "      <th>168</th>\n",
       "      <th>169</th>\n",
       "      <th>170</th>\n",
       "      <th>171</th>\n",
       "      <th>172</th>\n",
       "      <th>173</th>\n",
       "      <th>174</th>\n",
       "      <th>175</th>\n",
       "      <th>176</th>\n",
       "      <th>177</th>\n",
       "    </tr>\n",
       "  </thead>\n",
       "  <tbody>\n",
       "    <tr>\n",
       "      <th>0</th>\n",
       "      <td>0.000000</td>\n",
       "      <td>2.093633</td>\n",
       "      <td>0.900010</td>\n",
       "      <td>1.384777</td>\n",
       "      <td>2.378064</td>\n",
       "      <td>0.729368</td>\n",
       "      <td>0.908289</td>\n",
       "      <td>1.268160</td>\n",
       "      <td>0.962015</td>\n",
       "      <td>0.863050</td>\n",
       "      <td>...</td>\n",
       "      <td>5.534605</td>\n",
       "      <td>5.811629</td>\n",
       "      <td>6.744749</td>\n",
       "      <td>7.019991</td>\n",
       "      <td>5.830787</td>\n",
       "      <td>6.731783</td>\n",
       "      <td>5.927018</td>\n",
       "      <td>6.137650</td>\n",
       "      <td>5.767329</td>\n",
       "      <td>6.658761</td>\n",
       "    </tr>\n",
       "    <tr>\n",
       "      <th>1</th>\n",
       "      <td>2.093633</td>\n",
       "      <td>0.000000</td>\n",
       "      <td>1.398713</td>\n",
       "      <td>3.455679</td>\n",
       "      <td>1.699730</td>\n",
       "      <td>2.595737</td>\n",
       "      <td>1.527160</td>\n",
       "      <td>1.948141</td>\n",
       "      <td>1.287249</td>\n",
       "      <td>1.247743</td>\n",
       "      <td>...</td>\n",
       "      <td>5.009231</td>\n",
       "      <td>5.441520</td>\n",
       "      <td>5.421704</td>\n",
       "      <td>6.004696</td>\n",
       "      <td>5.314369</td>\n",
       "      <td>6.134913</td>\n",
       "      <td>5.245996</td>\n",
       "      <td>5.784495</td>\n",
       "      <td>5.296078</td>\n",
       "      <td>6.243515</td>\n",
       "    </tr>\n",
       "    <tr>\n",
       "      <th>2</th>\n",
       "      <td>0.900010</td>\n",
       "      <td>1.398713</td>\n",
       "      <td>0.000000</td>\n",
       "      <td>2.124804</td>\n",
       "      <td>1.516437</td>\n",
       "      <td>1.214686</td>\n",
       "      <td>0.158827</td>\n",
       "      <td>0.736880</td>\n",
       "      <td>0.113232</td>\n",
       "      <td>0.338440</td>\n",
       "      <td>...</td>\n",
       "      <td>4.813270</td>\n",
       "      <td>5.139359</td>\n",
       "      <td>5.870147</td>\n",
       "      <td>6.197373</td>\n",
       "      <td>5.116153</td>\n",
       "      <td>6.005367</td>\n",
       "      <td>5.169936</td>\n",
       "      <td>5.475005</td>\n",
       "      <td>5.064591</td>\n",
       "      <td>5.983408</td>\n",
       "    </tr>\n",
       "    <tr>\n",
       "      <th>3</th>\n",
       "      <td>1.384777</td>\n",
       "      <td>3.455679</td>\n",
       "      <td>2.124804</td>\n",
       "      <td>0.000000</td>\n",
       "      <td>3.333377</td>\n",
       "      <td>0.949474</td>\n",
       "      <td>2.052319</td>\n",
       "      <td>2.049022</td>\n",
       "      <td>2.220888</td>\n",
       "      <td>2.208103</td>\n",
       "      <td>...</td>\n",
       "      <td>5.977152</td>\n",
       "      <td>6.140284</td>\n",
       "      <td>7.590015</td>\n",
       "      <td>7.676056</td>\n",
       "      <td>6.248000</td>\n",
       "      <td>7.148022</td>\n",
       "      <td>6.437037</td>\n",
       "      <td>6.434907</td>\n",
       "      <td>6.161206</td>\n",
       "      <td>6.965835</td>\n",
       "    </tr>\n",
       "    <tr>\n",
       "      <th>4</th>\n",
       "      <td>2.378064</td>\n",
       "      <td>1.699730</td>\n",
       "      <td>1.516437</td>\n",
       "      <td>3.333377</td>\n",
       "      <td>0.000000</td>\n",
       "      <td>2.395000</td>\n",
       "      <td>1.472127</td>\n",
       "      <td>1.284495</td>\n",
       "      <td>1.502740</td>\n",
       "      <td>1.746571</td>\n",
       "      <td>...</td>\n",
       "      <td>3.411261</td>\n",
       "      <td>3.800709</td>\n",
       "      <td>4.366882</td>\n",
       "      <td>4.686879</td>\n",
       "      <td>3.718171</td>\n",
       "      <td>4.581744</td>\n",
       "      <td>3.718308</td>\n",
       "      <td>4.143459</td>\n",
       "      <td>3.683763</td>\n",
       "      <td>4.625500</td>\n",
       "    </tr>\n",
       "  </tbody>\n",
       "</table>\n",
       "<p>5 rows × 178 columns</p>\n",
       "</div>"
      ],
      "text/plain": [
       "        0         1         2         3         4         5         6    \\\n",
       "0  0.000000  2.093633  0.900010  1.384777  2.378064  0.729368  0.908289   \n",
       "1  2.093633  0.000000  1.398713  3.455679  1.699730  2.595737  1.527160   \n",
       "2  0.900010  1.398713  0.000000  2.124804  1.516437  1.214686  0.158827   \n",
       "3  1.384777  3.455679  2.124804  0.000000  3.333377  0.949474  2.052319   \n",
       "4  2.378064  1.699730  1.516437  3.333377  0.000000  2.395000  1.472127   \n",
       "\n",
       "        7         8         9      ...          168       169       170  \\\n",
       "0  1.268160  0.962015  0.863050    ...     5.534605  5.811629  6.744749   \n",
       "1  1.948141  1.287249  1.247743    ...     5.009231  5.441520  5.421704   \n",
       "2  0.736880  0.113232  0.338440    ...     4.813270  5.139359  5.870147   \n",
       "3  2.049022  2.220888  2.208103    ...     5.977152  6.140284  7.590015   \n",
       "4  1.284495  1.502740  1.746571    ...     3.411261  3.800709  4.366882   \n",
       "\n",
       "        171       172       173       174       175       176       177  \n",
       "0  7.019991  5.830787  6.731783  5.927018  6.137650  5.767329  6.658761  \n",
       "1  6.004696  5.314369  6.134913  5.245996  5.784495  5.296078  6.243515  \n",
       "2  6.197373  5.116153  6.005367  5.169936  5.475005  5.064591  5.983408  \n",
       "3  7.676056  6.248000  7.148022  6.437037  6.434907  6.161206  6.965835  \n",
       "4  4.686879  3.718171  4.581744  3.718308  4.143459  3.683763  4.625500  \n",
       "\n",
       "[5 rows x 178 columns]"
      ]
     },
     "execution_count": 11,
     "metadata": {},
     "output_type": "execute_result"
    }
   ],
   "source": [
    "row_dist = pd.DataFrame(squareform(pdist(new_projected_data, metric='euclidean')))\n",
    "row_dist.head()"
   ]
  },
  {
   "cell_type": "code",
   "execution_count": 12,
   "metadata": {},
   "outputs": [],
   "source": [
    "row_clusters = linkage(pdist(new_projected_data, metric='euclidean'), method='complete')\n",
    "cluster_process = pd.DataFrame(row_clusters,\n",
    "             columns=['row label 1', 'row label 2',\n",
    "                      'distance', 'no. of items in clust.'],\n",
    "             index=['cluster %d' % (i + 1) \n",
    "                    for i in range(row_clusters.shape[0])])"
   ]
  },
  {
   "cell_type": "code",
   "execution_count": 28,
   "metadata": {},
   "outputs": [
    {
     "name": "stdout",
     "output_type": "stream",
     "text": [
      "Using matplotlib backend: TkAgg\n"
     ]
    },
    {
     "data": {
      "text/plain": [
       "Text(55.847222222222214, 0.5, 'Euclidean distance')"
      ]
     },
     "execution_count": 28,
     "metadata": {},
     "output_type": "execute_result"
    }
   ],
   "source": [
    "%matplotlib\n",
    "\n",
    "row_dendr = dendrogram(row_clusters)\n",
    "plt.tight_layout()\n",
    "plt.ylabel('Euclidean distance')"
   ]
  },
  {
   "cell_type": "markdown",
   "metadata": {},
   "source": [
    "• Use the previous number of cluster to perform a K-means cluster analysis"
   ]
  },
  {
   "cell_type": "code",
   "execution_count": 14,
   "metadata": {},
   "outputs": [],
   "source": [
    "from sklearn.cluster import KMeans"
   ]
  },
  {
   "cell_type": "code",
   "execution_count": 15,
   "metadata": {},
   "outputs": [],
   "source": [
    "km = KMeans(n_clusters=3, \n",
    "            init='random', \n",
    "            n_init=10, \n",
    "            max_iter=300,\n",
    "            tol=1e-04,\n",
    "            random_state=0)\n",
    "\n",
    "y_km = km.fit_predict(new_projected_data)"
   ]
  },
  {
   "cell_type": "code",
   "execution_count": 16,
   "metadata": {},
   "outputs": [
    {
     "data": {
      "text/plain": [
       "array([0, 0, 0, 0, 0, 0, 0, 0, 0, 0, 0, 0, 0, 0, 0, 0, 0, 0, 0, 0, 0, 0,\n",
       "       0, 0, 0, 0, 0, 0, 0, 0, 0, 0, 0, 0, 0, 0, 0, 0, 2, 0, 0, 0, 0, 0,\n",
       "       0, 0, 0, 0, 0, 0, 0, 0, 0, 0, 0, 0, 0, 0, 0, 2, 2, 2, 2, 2, 2, 2,\n",
       "       2, 2, 2, 2, 2, 2, 2, 0, 2, 2, 2, 2, 2, 2, 2, 2, 2, 1, 2, 2, 2, 2,\n",
       "       2, 2, 2, 2, 2, 2, 2, 0, 2, 2, 2, 2, 2, 2, 2, 2, 2, 2, 2, 2, 2, 2,\n",
       "       2, 2, 2, 2, 2, 2, 2, 2, 1, 2, 2, 0, 2, 2, 2, 2, 2, 2, 2, 2, 1, 1,\n",
       "       1, 1, 1, 1, 1, 1, 1, 1, 1, 1, 1, 1, 1, 1, 1, 1, 1, 1, 1, 1, 1, 1,\n",
       "       1, 1, 1, 1, 1, 1, 1, 1, 1, 1, 1, 1, 1, 1, 1, 1, 1, 1, 1, 1, 1, 1,\n",
       "       1, 1], dtype=int32)"
      ]
     },
     "execution_count": 16,
     "metadata": {},
     "output_type": "execute_result"
    }
   ],
   "source": [
    "y_km"
   ]
  },
  {
   "cell_type": "code",
   "execution_count": 17,
   "metadata": {},
   "outputs": [
    {
     "data": {
      "text/plain": [
       "array([1, 1, 1, 1, 1, 1, 1, 1, 1, 1, 1, 1, 1, 1, 1, 1, 1, 1, 1, 1, 1, 1,\n",
       "       1, 1, 1, 1, 1, 1, 1, 1, 1, 1, 1, 1, 1, 1, 1, 1, 1, 1, 1, 1, 1, 1,\n",
       "       1, 1, 1, 1, 1, 1, 1, 1, 1, 1, 1, 1, 1, 1, 1, 2, 2, 2, 2, 2, 2, 2,\n",
       "       2, 2, 2, 2, 2, 2, 2, 2, 2, 2, 2, 2, 2, 2, 2, 2, 2, 2, 2, 2, 2, 2,\n",
       "       2, 2, 2, 2, 2, 2, 2, 2, 2, 2, 2, 2, 2, 2, 2, 2, 2, 2, 2, 2, 2, 2,\n",
       "       2, 2, 2, 2, 2, 2, 2, 2, 2, 2, 2, 2, 2, 2, 2, 2, 2, 2, 2, 2, 3, 3,\n",
       "       3, 3, 3, 3, 3, 3, 3, 3, 3, 3, 3, 3, 3, 3, 3, 3, 3, 3, 3, 3, 3, 3,\n",
       "       3, 3, 3, 3, 3, 3, 3, 3, 3, 3, 3, 3, 3, 3, 3, 3, 3, 3, 3, 3, 3, 3,\n",
       "       3, 3])"
      ]
     },
     "execution_count": 17,
     "metadata": {},
     "output_type": "execute_result"
    }
   ],
   "source": [
    "np.array(wine.iloc[:, -1])"
   ]
  },
  {
   "cell_type": "code",
   "execution_count": 18,
   "metadata": {},
   "outputs": [
    {
     "name": "stdout",
     "output_type": "stream",
     "text": [
      "Accuracy of Prediction: 0.9662921348314607\n"
     ]
    }
   ],
   "source": [
    "y_km2 = y_km.copy()\n",
    "for i in range(len(y_km2)):\n",
    "    if y_km2[i] == 0:\n",
    "        y_km2[i] = 1\n",
    "    elif y_km2[i] == 1:\n",
    "        y_km2[i] = 3\n",
    "print('Accuracy of Prediction:', np.mean(y_km2 == np.array(wine.iloc[:, -1])))"
   ]
  },
  {
   "cell_type": "markdown",
   "metadata": {},
   "source": [
    "• Analyse the “silhouette” of the clusters"
   ]
  },
  {
   "cell_type": "code",
   "execution_count": 19,
   "metadata": {},
   "outputs": [],
   "source": [
    "from sklearn.metrics import silhouette_samples\n",
    "from matplotlib import cm"
   ]
  },
  {
   "cell_type": "code",
   "execution_count": 20,
   "metadata": {},
   "outputs": [
    {
     "name": "stdout",
     "output_type": "stream",
     "text": [
      "Using matplotlib backend: TkAgg\n"
     ]
    }
   ],
   "source": [
    "%matplotlib\n",
    "\n",
    "cluster_labels = np.unique(y_km)\n",
    "n_clusters = cluster_labels.shape[0]\n",
    "\n",
    "silhouette_vals = silhouette_samples(new_projected_data, y_km, metric='euclidean')\n",
    "\n",
    "y_ax_lower, y_ax_upper = 0, 0\n",
    "yticks = []\n",
    "\n",
    "for i, c in enumerate(cluster_labels):\n",
    "    c_silhouette_vals = silhouette_vals[y_km == c]\n",
    "    c_silhouette_vals.sort()\n",
    "    y_ax_upper += len(c_silhouette_vals)\n",
    "    color = cm.jet(float(i) / n_clusters)\n",
    "    plt.barh(range(y_ax_lower, y_ax_upper), c_silhouette_vals, height=1.0, \n",
    "             edgecolor='none', color=color)\n",
    "\n",
    "    yticks.append((y_ax_lower + y_ax_upper) / 2.)\n",
    "    y_ax_lower += len(c_silhouette_vals)\n",
    "    \n",
    "silhouette_avg = np.mean(silhouette_vals)\n",
    "plt.axvline(silhouette_avg, color=\"red\", linestyle=\"--\") \n",
    "\n",
    "plt.yticks(yticks, cluster_labels + 1)\n",
    "plt.ylabel('Cluster')\n",
    "plt.xlabel('Silhouette coefficient')\n",
    "\n",
    "plt.tight_layout()\n",
    "plt.show()"
   ]
  },
  {
   "cell_type": "markdown",
   "metadata": {},
   "source": [
    "• Plot on the space of the first two dimensions of the PCA the clusters obtained with K-means, using a different\n",
    "colour for each cluster."
   ]
  },
  {
   "cell_type": "code",
   "execution_count": 29,
   "metadata": {},
   "outputs": [],
   "source": [
    "import seaborn as sns"
   ]
  },
  {
   "cell_type": "code",
   "execution_count": 30,
   "metadata": {},
   "outputs": [
    {
     "name": "stdout",
     "output_type": "stream",
     "text": [
      "Using matplotlib backend: TkAgg\n"
     ]
    }
   ],
   "source": [
    "%matplotlib\n",
    "\n",
    "plot_data = pd.concat([ pd.DataFrame(new_projected_data, columns = ['PC0', 'PC1']), pd.DataFrame(y_km, columns = ['cluster']) ], axis = 1)\n",
    "sns_plot = sns.relplot(x=\"PC0\", y=\"PC1\", hue='cluster', palette= 'Set1', data=plot_data)\n",
    "sns_plot.savefig('cluster')"
   ]
  },
  {
   "cell_type": "markdown",
   "metadata": {},
   "source": [
    "• For each cluster, which “original” variables (ex ante the PCA) are more important? Consider the barycenter of each cluster (the barycenter is an observation) and its variables values."
   ]
  },
  {
   "cell_type": "code",
   "execution_count": 31,
   "metadata": {},
   "outputs": [
    {
     "data": {
      "text/html": [
       "<div>\n",
       "<style scoped>\n",
       "    .dataframe tbody tr th:only-of-type {\n",
       "        vertical-align: middle;\n",
       "    }\n",
       "\n",
       "    .dataframe tbody tr th {\n",
       "        vertical-align: top;\n",
       "    }\n",
       "\n",
       "    .dataframe thead th {\n",
       "        text-align: right;\n",
       "    }\n",
       "</style>\n",
       "<table border=\"1\" class=\"dataframe\">\n",
       "  <thead>\n",
       "    <tr style=\"text-align: right;\">\n",
       "      <th></th>\n",
       "      <th>Alcohol</th>\n",
       "      <th>Malic_Acid</th>\n",
       "      <th>Ash</th>\n",
       "      <th>Ash_Alcanity</th>\n",
       "      <th>Magnesium</th>\n",
       "      <th>Total_Phenols</th>\n",
       "      <th>Flavanoids</th>\n",
       "      <th>Nonflavanoid_Phenols</th>\n",
       "      <th>Proanthocyanins</th>\n",
       "      <th>Color_Intensity</th>\n",
       "      <th>Hue</th>\n",
       "      <th>OD280</th>\n",
       "      <th>Proline</th>\n",
       "      <th>cluster</th>\n",
       "    </tr>\n",
       "  </thead>\n",
       "  <tbody>\n",
       "    <tr>\n",
       "      <th>0</th>\n",
       "      <td>1.518613</td>\n",
       "      <td>-0.562250</td>\n",
       "      <td>0.232053</td>\n",
       "      <td>-1.169593</td>\n",
       "      <td>1.913905</td>\n",
       "      <td>0.808997</td>\n",
       "      <td>1.034819</td>\n",
       "      <td>-0.659563</td>\n",
       "      <td>1.224884</td>\n",
       "      <td>0.251717</td>\n",
       "      <td>0.362177</td>\n",
       "      <td>1.847920</td>\n",
       "      <td>1.013009</td>\n",
       "      <td>0</td>\n",
       "    </tr>\n",
       "    <tr>\n",
       "      <th>1</th>\n",
       "      <td>0.246290</td>\n",
       "      <td>-0.499413</td>\n",
       "      <td>-0.827996</td>\n",
       "      <td>-2.490847</td>\n",
       "      <td>0.018145</td>\n",
       "      <td>0.568648</td>\n",
       "      <td>0.733629</td>\n",
       "      <td>-0.820719</td>\n",
       "      <td>-0.544721</td>\n",
       "      <td>-0.293321</td>\n",
       "      <td>0.406051</td>\n",
       "      <td>1.113449</td>\n",
       "      <td>0.965242</td>\n",
       "      <td>0</td>\n",
       "    </tr>\n",
       "    <tr>\n",
       "      <th>2</th>\n",
       "      <td>0.196879</td>\n",
       "      <td>0.021231</td>\n",
       "      <td>1.109334</td>\n",
       "      <td>-0.268738</td>\n",
       "      <td>0.088358</td>\n",
       "      <td>0.808997</td>\n",
       "      <td>1.215533</td>\n",
       "      <td>-0.498407</td>\n",
       "      <td>2.135968</td>\n",
       "      <td>0.269020</td>\n",
       "      <td>0.318304</td>\n",
       "      <td>0.788587</td>\n",
       "      <td>1.395148</td>\n",
       "      <td>0</td>\n",
       "    </tr>\n",
       "    <tr>\n",
       "      <th>3</th>\n",
       "      <td>1.691550</td>\n",
       "      <td>-0.346811</td>\n",
       "      <td>0.487926</td>\n",
       "      <td>-0.809251</td>\n",
       "      <td>0.930918</td>\n",
       "      <td>2.491446</td>\n",
       "      <td>1.466525</td>\n",
       "      <td>-0.981875</td>\n",
       "      <td>1.032155</td>\n",
       "      <td>1.186068</td>\n",
       "      <td>-0.427544</td>\n",
       "      <td>1.184071</td>\n",
       "      <td>2.334574</td>\n",
       "      <td>0</td>\n",
       "    </tr>\n",
       "    <tr>\n",
       "      <th>4</th>\n",
       "      <td>0.295700</td>\n",
       "      <td>0.227694</td>\n",
       "      <td>1.840403</td>\n",
       "      <td>0.451946</td>\n",
       "      <td>1.281985</td>\n",
       "      <td>0.808997</td>\n",
       "      <td>0.663351</td>\n",
       "      <td>0.226796</td>\n",
       "      <td>0.401404</td>\n",
       "      <td>-0.319276</td>\n",
       "      <td>0.362177</td>\n",
       "      <td>0.449601</td>\n",
       "      <td>-0.037874</td>\n",
       "      <td>0</td>\n",
       "    </tr>\n",
       "  </tbody>\n",
       "</table>\n",
       "</div>"
      ],
      "text/plain": [
       "    Alcohol  Malic_Acid       Ash  Ash_Alcanity  Magnesium  Total_Phenols  \\\n",
       "0  1.518613   -0.562250  0.232053     -1.169593   1.913905       0.808997   \n",
       "1  0.246290   -0.499413 -0.827996     -2.490847   0.018145       0.568648   \n",
       "2  0.196879    0.021231  1.109334     -0.268738   0.088358       0.808997   \n",
       "3  1.691550   -0.346811  0.487926     -0.809251   0.930918       2.491446   \n",
       "4  0.295700    0.227694  1.840403      0.451946   1.281985       0.808997   \n",
       "\n",
       "   Flavanoids  Nonflavanoid_Phenols  Proanthocyanins  Color_Intensity  \\\n",
       "0    1.034819             -0.659563         1.224884         0.251717   \n",
       "1    0.733629             -0.820719        -0.544721        -0.293321   \n",
       "2    1.215533             -0.498407         2.135968         0.269020   \n",
       "3    1.466525             -0.981875         1.032155         1.186068   \n",
       "4    0.663351              0.226796         0.401404        -0.319276   \n",
       "\n",
       "        Hue     OD280   Proline  cluster  \n",
       "0  0.362177  1.847920  1.013009        0  \n",
       "1  0.406051  1.113449  0.965242        0  \n",
       "2  0.318304  0.788587  1.395148        0  \n",
       "3 -0.427544  1.184071  2.334574        0  \n",
       "4  0.362177  0.449601 -0.037874        0  "
      ]
     },
     "execution_count": 31,
     "metadata": {},
     "output_type": "execute_result"
    }
   ],
   "source": [
    "data_with_cluster = pd.concat([ pd.DataFrame(wine_std, columns = wine.iloc[:, :-1].columns), pd.DataFrame(y_km, columns = ['cluster'])], axis = 1)\n",
    "data_with_cluster.head()"
   ]
  },
  {
   "cell_type": "code",
   "execution_count": 32,
   "metadata": {},
   "outputs": [
    {
     "data": {
      "text/html": [
       "<div>\n",
       "<style scoped>\n",
       "    .dataframe tbody tr th:only-of-type {\n",
       "        vertical-align: middle;\n",
       "    }\n",
       "\n",
       "    .dataframe tbody tr th {\n",
       "        vertical-align: top;\n",
       "    }\n",
       "\n",
       "    .dataframe thead th {\n",
       "        text-align: right;\n",
       "    }\n",
       "</style>\n",
       "<table border=\"1\" class=\"dataframe\">\n",
       "  <thead>\n",
       "    <tr style=\"text-align: right;\">\n",
       "      <th></th>\n",
       "      <th>Alcohol</th>\n",
       "      <th>Malic_Acid</th>\n",
       "      <th>Ash</th>\n",
       "      <th>Ash_Alcanity</th>\n",
       "      <th>Magnesium</th>\n",
       "      <th>Total_Phenols</th>\n",
       "      <th>Flavanoids</th>\n",
       "      <th>Nonflavanoid_Phenols</th>\n",
       "      <th>Proanthocyanins</th>\n",
       "      <th>Color_Intensity</th>\n",
       "      <th>Hue</th>\n",
       "      <th>OD280</th>\n",
       "      <th>Proline</th>\n",
       "    </tr>\n",
       "  </thead>\n",
       "  <tbody>\n",
       "    <tr>\n",
       "      <th>0</th>\n",
       "      <td>0.847519</td>\n",
       "      <td>-0.296483</td>\n",
       "      <td>0.386655</td>\n",
       "      <td>-0.600529</td>\n",
       "      <td>0.589060</td>\n",
       "      <td>0.896994</td>\n",
       "      <td>0.983798</td>\n",
       "      <td>-0.560492</td>\n",
       "      <td>0.596144</td>\n",
       "      <td>0.183498</td>\n",
       "      <td>0.465747</td>\n",
       "      <td>0.790208</td>\n",
       "      <td>1.129373</td>\n",
       "    </tr>\n",
       "    <tr>\n",
       "      <th>1</th>\n",
       "      <td>0.177115</td>\n",
       "      <td>0.906507</td>\n",
       "      <td>0.215969</td>\n",
       "      <td>0.551040</td>\n",
       "      <td>-0.077345</td>\n",
       "      <td>-0.990100</td>\n",
       "      <td>-1.227118</td>\n",
       "      <td>0.713487</td>\n",
       "      <td>-0.761279</td>\n",
       "      <td>0.954384</td>\n",
       "      <td>-1.190063</td>\n",
       "      <td>-1.289398</td>\n",
       "      <td>-0.396321</td>\n",
       "    </tr>\n",
       "    <tr>\n",
       "      <th>2</th>\n",
       "      <td>-0.903797</td>\n",
       "      <td>-0.406566</td>\n",
       "      <td>-0.513201</td>\n",
       "      <td>0.135526</td>\n",
       "      <td>-0.478588</td>\n",
       "      <td>-0.077785</td>\n",
       "      <td>0.020063</td>\n",
       "      <td>-0.022155</td>\n",
       "      <td>0.025360</td>\n",
       "      <td>-0.879292</td>\n",
       "      <td>0.464068</td>\n",
       "      <td>0.242794</td>\n",
       "      <td>-0.732474</td>\n",
       "    </tr>\n",
       "  </tbody>\n",
       "</table>\n",
       "</div>"
      ],
      "text/plain": [
       "    Alcohol  Malic_Acid       Ash  Ash_Alcanity  Magnesium  Total_Phenols  \\\n",
       "0  0.847519   -0.296483  0.386655     -0.600529   0.589060       0.896994   \n",
       "1  0.177115    0.906507  0.215969      0.551040  -0.077345      -0.990100   \n",
       "2 -0.903797   -0.406566 -0.513201      0.135526  -0.478588      -0.077785   \n",
       "\n",
       "   Flavanoids  Nonflavanoid_Phenols  Proanthocyanins  Color_Intensity  \\\n",
       "0    0.983798             -0.560492         0.596144         0.183498   \n",
       "1   -1.227118              0.713487        -0.761279         0.954384   \n",
       "2    0.020063             -0.022155         0.025360        -0.879292   \n",
       "\n",
       "        Hue     OD280   Proline  \n",
       "0  0.465747  0.790208  1.129373  \n",
       "1 -1.190063 -1.289398 -0.396321  \n",
       "2  0.464068  0.242794 -0.732474  "
      ]
     },
     "execution_count": 32,
     "metadata": {},
     "output_type": "execute_result"
    }
   ],
   "source": [
    "geo_center = pd.DataFrame(wine_std).groupby(y_km).mean()\n",
    "geo_center.columns = wine.iloc[:, :-1].columns\n",
    "geo_center"
   ]
  },
  {
   "cell_type": "code",
   "execution_count": 25,
   "metadata": {},
   "outputs": [],
   "source": [
    "cluster_data = data_with_cluster.groupby('cluster')\n",
    "\n",
    "rep_id_ls = cluster_data \\\n",
    "    .apply(pdist, metric='euclidean') \\\n",
    "    .apply(squareform)\\\n",
    "    .apply(pd.DataFrame) \\\n",
    "    .apply(lambda x: pd.concat([x, pd.DataFrame(x.sum(axis = 1), columns = ['sum'])] , axis = 1)) \\\n",
    "    .apply(lambda x: x['sum'].idxmin()) \\\n",
    "    .tolist()\n",
    "rep_id_ls = np.array([cluster_data.get_group(i).iloc[idx: idx+1].index.values for i, idx in zip(range(len(rep_id_ls)), rep_id_ls)]).squeeze()"
   ]
  },
  {
   "cell_type": "code",
   "execution_count": 26,
   "metadata": {},
   "outputs": [
    {
     "data": {
      "text/html": [
       "<div>\n",
       "<style scoped>\n",
       "    .dataframe tbody tr th:only-of-type {\n",
       "        vertical-align: middle;\n",
       "    }\n",
       "\n",
       "    .dataframe tbody tr th {\n",
       "        vertical-align: top;\n",
       "    }\n",
       "\n",
       "    .dataframe thead th {\n",
       "        text-align: right;\n",
       "    }\n",
       "</style>\n",
       "<table border=\"1\" class=\"dataframe\">\n",
       "  <thead>\n",
       "    <tr style=\"text-align: right;\">\n",
       "      <th></th>\n",
       "      <th>Alcohol</th>\n",
       "      <th>Malic_Acid</th>\n",
       "      <th>Ash</th>\n",
       "      <th>Ash_Alcanity</th>\n",
       "      <th>Magnesium</th>\n",
       "      <th>Total_Phenols</th>\n",
       "      <th>Flavanoids</th>\n",
       "      <th>Nonflavanoid_Phenols</th>\n",
       "      <th>Proanthocyanins</th>\n",
       "      <th>Color_Intensity</th>\n",
       "      <th>Hue</th>\n",
       "      <th>OD280</th>\n",
       "      <th>Proline</th>\n",
       "      <th>cluster</th>\n",
       "    </tr>\n",
       "  </thead>\n",
       "  <tbody>\n",
       "    <tr>\n",
       "      <th>48</th>\n",
       "      <td>1.358028</td>\n",
       "      <td>-0.283974</td>\n",
       "      <td>0.122392</td>\n",
       "      <td>-0.208681</td>\n",
       "      <td>0.228785</td>\n",
       "      <td>0.728881</td>\n",
       "      <td>0.894264</td>\n",
       "      <td>-0.337251</td>\n",
       "      <td>1.382572</td>\n",
       "      <td>0.493956</td>\n",
       "      <td>0.493797</td>\n",
       "      <td>0.195361</td>\n",
       "      <td>0.997086</td>\n",
       "      <td>0</td>\n",
       "    </tr>\n",
       "    <tr>\n",
       "      <th>148</th>\n",
       "      <td>0.394521</td>\n",
       "      <td>0.811175</td>\n",
       "      <td>0.049285</td>\n",
       "      <td>0.602088</td>\n",
       "      <td>-0.543562</td>\n",
       "      <td>-0.585031</td>\n",
       "      <td>-1.274305</td>\n",
       "      <td>0.710264</td>\n",
       "      <td>-0.597284</td>\n",
       "      <td>1.454261</td>\n",
       "      <td>-1.787619</td>\n",
       "      <td>-1.400699</td>\n",
       "      <td>-0.308556</td>\n",
       "      <td>1</td>\n",
       "    </tr>\n",
       "    <tr>\n",
       "      <th>106</th>\n",
       "      <td>-0.927212</td>\n",
       "      <td>-0.544297</td>\n",
       "      <td>-0.901103</td>\n",
       "      <td>-0.148624</td>\n",
       "      <td>-1.386122</td>\n",
       "      <td>-1.033684</td>\n",
       "      <td>0.000733</td>\n",
       "      <td>0.065639</td>\n",
       "      <td>0.068508</td>\n",
       "      <td>-0.717240</td>\n",
       "      <td>0.186684</td>\n",
       "      <td>0.788587</td>\n",
       "      <td>-0.754385</td>\n",
       "      <td>2</td>\n",
       "    </tr>\n",
       "  </tbody>\n",
       "</table>\n",
       "</div>"
      ],
      "text/plain": [
       "      Alcohol  Malic_Acid       Ash  Ash_Alcanity  Magnesium  Total_Phenols  \\\n",
       "48   1.358028   -0.283974  0.122392     -0.208681   0.228785       0.728881   \n",
       "148  0.394521    0.811175  0.049285      0.602088  -0.543562      -0.585031   \n",
       "106 -0.927212   -0.544297 -0.901103     -0.148624  -1.386122      -1.033684   \n",
       "\n",
       "     Flavanoids  Nonflavanoid_Phenols  Proanthocyanins  Color_Intensity  \\\n",
       "48     0.894264             -0.337251         1.382572         0.493956   \n",
       "148   -1.274305              0.710264        -0.597284         1.454261   \n",
       "106    0.000733              0.065639         0.068508        -0.717240   \n",
       "\n",
       "          Hue     OD280   Proline  cluster  \n",
       "48   0.493797  0.195361  0.997086        0  \n",
       "148 -1.787619 -1.400699 -0.308556        1  \n",
       "106  0.186684  0.788587 -0.754385        2  "
      ]
     },
     "execution_count": 26,
     "metadata": {},
     "output_type": "execute_result"
    }
   ],
   "source": [
    "barycenter = data_with_cluster.loc[rep_id_ls]\n",
    "barycenter"
   ]
  },
  {
   "cell_type": "code",
   "execution_count": 27,
   "metadata": {},
   "outputs": [
    {
     "name": "stdout",
     "output_type": "stream",
     "text": [
      "cluster 0 :Proanthocyanins\n",
      "cluster 1 :Hue\n",
      "cluster 2 :Magnesium\n"
     ]
    }
   ],
   "source": [
    "for index, row in barycenter.iterrows():\n",
    "    print('cluster ' + str(int(row['cluster'])) + ' :' + abs(row[: -1]).idxmax())"
   ]
  },
  {
   "cell_type": "markdown",
   "metadata": {},
   "source": [
    "• Using both the information of barycenters and of PCA, give an interpretation to each cluster"
   ]
  },
  {
   "cell_type": "markdown",
   "metadata": {},
   "source": [
    "Magnesium is more important to cluster 0. This cluster scores low in both PCs.  \n",
    "Proanthocyanins is more important to cluster 1. This cluster socres high in PC1 and around 0 in PC0.  \n",
    "Hue is more important to cluster 2. This cluster scores high in PC0 but low in PC1."
   ]
  },
  {
   "cell_type": "markdown",
   "metadata": {},
   "source": [
    "• Write a function that takes in input the dataset and that returns 1) the value of K (for the K-means) that is associated\n",
    "with the best overall silhouette of the K-means algorithm and 2) the plot of the correspondent clusters on the space of\n",
    "the first two dimensions of the PCA (performed over the same dataset). "
   ]
  },
  {
   "cell_type": "markdown",
   "metadata": {},
   "source": [
    "• Write a function that takes in input the dataset: the function performs the PCA and returns the circle of correlations of\n",
    "each pair of principal components (1 and 2, 1 and 3, 1 and …, 2 and 1, 2 and 3, …). Plot all the circles in the same plot\n",
    "and/or in a series of plots 3x3."
   ]
  },
  {
   "cell_type": "code",
   "execution_count": 28,
   "metadata": {},
   "outputs": [],
   "source": [
    "def process(data):\n",
    "    from scipy.spatial.distance import pdist\n",
    "    from scipy.cluster.hierarchy import linkage, cut_tree\n",
    "    from sklearn.metrics import silhouette_samples\n",
    "    from sklearn.cluster import KMeans\n",
    "    from sklearn.preprocessing import StandardScaler\n",
    "    from sklearn.decomposition import PCA\n",
    "    import numpy as np\n",
    "    import seaborn as sns\n",
    "    %matplotlib\n",
    "    \n",
    "    n_sample = data.shape[0]\n",
    "    n_pc = 2\n",
    "    my_pca = PCA(n_components=n_pc)\n",
    "    data_std = StandardScaler().fit_transform(data)\n",
    "    new_projected_data = my_pca.fit_transform(data_std)\n",
    "    PCs = my_pca.components_\n",
    "    row_clusters = linkage(pdist(new_projected_data, metric='euclidean'), method='complete')\n",
    "    best_n_cluster = 1\n",
    "    silhouette = -1\n",
    "    for n_cluster in np.arange(2, n_sample - 1):\n",
    "        silhouette_new = silhouette_samples(new_projected_data, cut_tree(row_clusters, n_cluster).squeeze(), metric='euclidean').mean()\n",
    "        if silhouette_new > silhouette:\n",
    "            silhouette = silhouette_new\n",
    "            best_n_cluster = n_cluster\n",
    "\n",
    "    km = KMeans(n_clusters=best_n_cluster, \n",
    "                init='random', \n",
    "                n_init=10, \n",
    "                max_iter=300,\n",
    "                tol=1e-04,\n",
    "                random_state=0)\n",
    "    y_km = km.fit_predict(new_projected_data)\n",
    "\n",
    "    plot_data = pd.concat([ pd.DataFrame(new_projected_data, columns = ['PC0', 'PC1']), pd.DataFrame(y_km, columns = ['cluster']) ], axis = 1)\n",
    "    sns_plot = sns.relplot(x=\"PC0\", y=\"PC1\", hue='cluster', palette= 'Set1', data=plot_data)\n",
    "    return (best_n_cluster, sns_plot)\n"
   ]
  },
  {
   "cell_type": "code",
   "execution_count": 29,
   "metadata": {},
   "outputs": [
    {
     "name": "stdout",
     "output_type": "stream",
     "text": [
      "Using matplotlib backend: TkAgg\n"
     ]
    },
    {
     "name": "stderr",
     "output_type": "stream",
     "text": [
      "/home/ranger/.local/lib/python3.6/site-packages/sklearn/preprocessing/data.py:617: DataConversionWarning: Data with input dtype int64, float64 were all converted to float64 by StandardScaler.\n",
      "  return self.partial_fit(X, y)\n",
      "/home/ranger/.local/lib/python3.6/site-packages/sklearn/base.py:462: DataConversionWarning: Data with input dtype int64, float64 were all converted to float64 by StandardScaler.\n",
      "  return self.fit(X, **fit_params).transform(X)\n"
     ]
    }
   ],
   "source": [
    "best_n_cluster, sns_plot = process(wine)"
   ]
  },
  {
   "cell_type": "code",
   "execution_count": null,
   "metadata": {},
   "outputs": [],
   "source": [
    "best_n_cluster"
   ]
  },
  {
   "cell_type": "code",
   "execution_count": null,
   "metadata": {},
   "outputs": [],
   "source": [
    "sns_plot.fig"
   ]
  },
  {
   "cell_type": "code",
   "execution_count": 35,
   "metadata": {},
   "outputs": [],
   "source": [
    "def process2(data):\n",
    "    from sklearn.preprocessing import StandardScaler\n",
    "    from sklearn.decomposition import PCA\n",
    "    import numpy as np\n",
    "    import seaborn as sns\n",
    "    import matplotlib.pyplot as plt\n",
    "    %matplotlib\n",
    "    \n",
    "    n_pc = data.shape[1]\n",
    "    my_pca = PCA(n_components=n_pc)\n",
    "    data_std = StandardScaler().fit_transform(data)\n",
    "    new_projected_data = my_pca.fit_transform(data_std)\n",
    "    PCs = my_pca.components_\n",
    "    plt.figure(figsize=(5*n_pc, 5*n_pc))\n",
    "    n_pc = data.shape[1]\n",
    "    for s in range(n_pc):\n",
    "            for t in range(n_pc):\n",
    "                if s == t:\n",
    "                    continue\n",
    "                plt.subplot(n_pc, n_pc, s * n_pc + t + 1)\n",
    "                plt.quiver(np.zeros(PCs.shape[1]), np.zeros(PCs.shape[1]),\n",
    "                           PCs[s,:], PCs[t,:], \n",
    "                           angles='xy', scale_units='xy', scale=1)\n",
    "\n",
    "                # Add labels based on feature names (here just numbers)\n",
    "                feature_names = np.arange(PCs.shape[1])\n",
    "                for i,j,z in zip(PCs[t,:]+0.02, PCs[s,:]+0.02, feature_names):\n",
    "                    plt.text(j, i, z, ha='center', va='center')\n",
    "\n",
    "                # Add unit circle\n",
    "                circle = plt.Circle((0,0), 1, facecolor='none', edgecolor='b')\n",
    "                plt.gca().add_artist(circle)\n",
    "\n",
    "                # Ensure correct aspect ratio and axis limits\n",
    "                plt.axis('equal')\n",
    "                plt.xlim([-1,1])\n",
    "                plt.ylim([-1,1])\n",
    "    \n",
    "                # Label axes\n",
    "                plt.xlabel('PC 0')\n",
    "                plt.ylabel('PC 1')  "
   ]
  },
  {
   "cell_type": "code",
   "execution_count": 36,
   "metadata": {},
   "outputs": [
    {
     "name": "stdout",
     "output_type": "stream",
     "text": [
      "Using matplotlib backend: TkAgg\n"
     ]
    },
    {
     "name": "stderr",
     "output_type": "stream",
     "text": [
      "/home/ranger/.local/lib/python3.6/site-packages/sklearn/preprocessing/data.py:617: DataConversionWarning: Data with input dtype int64, float64 were all converted to float64 by StandardScaler.\n",
      "  return self.partial_fit(X, y)\n",
      "/home/ranger/.local/lib/python3.6/site-packages/sklearn/base.py:462: DataConversionWarning: Data with input dtype int64, float64 were all converted to float64 by StandardScaler.\n",
      "  return self.fit(X, **fit_params).transform(X)\n"
     ]
    }
   ],
   "source": [
    "process2(wine)"
   ]
  },
  {
   "cell_type": "code",
   "execution_count": null,
   "metadata": {},
   "outputs": [],
   "source": []
  }
 ],
 "metadata": {
  "kernelspec": {
   "display_name": "Python 3",
   "language": "python",
   "name": "python3"
  },
  "language_info": {
   "codemirror_mode": {
    "name": "ipython",
    "version": 3
   },
   "file_extension": ".py",
   "mimetype": "text/x-python",
   "name": "python",
   "nbconvert_exporter": "python",
   "pygments_lexer": "ipython3",
   "version": "3.6.5"
  }
 },
 "nbformat": 4,
 "nbformat_minor": 2
}
